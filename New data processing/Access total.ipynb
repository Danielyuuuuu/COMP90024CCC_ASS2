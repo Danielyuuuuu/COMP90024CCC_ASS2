{
 "cells": [
  {
   "cell_type": "code",
   "execution_count": 1,
   "id": "12537adc",
   "metadata": {},
   "outputs": [
    {
     "name": "stdout",
     "output_type": "stream",
     "text": [
      "Username: admin\n",
      "Databases: ['topwordsmonth3', 'topwordstotal', 'tweets_covid', 'tweets_keywords', 'tweets_no_keywords', 'tweets_raw', 'tweets_vaccine']\n",
      "Accessing db: topwordsmonth3\n",
      "{'_id': '2021-04', '_rev': '1-cf0b2bd10358c18c2d8196bdbe77d4d8', 'Adelaide': {'Adelaide': 281, 'Australia': 203, 'South': 163, 'posted': 141, 'photo': 134, 'today': 125, 'people': 82, 'great': 80, 'Happy': 68, 'video': 68}, 'Ballarat': {'#walkies': 24, 'Ballarat': 23, 'Abstract': 16, '#zerowaste': 14, '#recycle': 13, '#MAFS': 12, '#abstractart': 12, '#artist': 11, '#recycling': 11, '#artwork': 11}, 'Brisbane': {'posted': 961, 'photo': 938, 'Brisbane': 489, 'Queensland': 476, 'Australia': 350, 'today': 201, 'people': 126, 'great': 119, 'night': 114, 'first': 111}, 'Bunbury': {'Bunbury': 7, 'Western': 4, 'Australia': 4, 'posted': 3, 'photo': 3, '#housesitting': 2, 'walking': 2, 'today': 2, 'Taking': 1, 'break': 1}, 'Canberra': {'Canberra': 168, 'posted': 101, 'photo': 97, 'Australian': 71, 'Australia': 65, 'great': 58, 'eWasp': 58, 'today': 55, 'people': 52, 'morning': 50}, 'Geelong': {'Geelong': 80, 'Extreme': 44, 'Board': 37, 'Store': 25, 'Victoria': 24, 'today': 22, 'Tours': 17, 'photo': 16, 'posted': 15, 'WARRIORS': 13}, 'Hobart': {'Tasmania': 58, 'Australia': 43, 'Hobart': 39, 'Kingston': 33, 'photo': 33, 'posted': 32, 'Beach': 30, 'today': 23, 'iPhone': 20, '#blackandwhite': 19}, 'Melbourne': {'posted': 2452, 'photo': 2270, 'Victoria': 1343, 'Melbourne': 1336, 'Australia': 1137, 'today': 539, 'people': 410, 'great': 385, 'would': 323, 'video': 300}, 'Newcastle': {'posted': 251, 'photo': 226, 'Newcastle': 188, 'South': 90, 'Wales': 89, 'Forum': 76, 'University': 69, 'Sport': 61, 'today': 51, 'Australia': 37}, 'Perth': {'Perth': 479, 'Australia': 474, 'posted': 453, 'photo': 415, 'Western': 414, 'today': 153, 'people': 129, '@11AberdeenStreet': 124, '️0893252011': 116, 'great': 109}, 'Sydney': {'posted': 3089, 'photo': 2893, 'Sydney': 2420, 'Australia': 2182, 'South': 633, 'Wales': 588, 'today': 582, 'people': 368, 'great': 364, 'video': 348}}\n"
     ]
    }
   ],
   "source": [
    "from database_cloudant import CloudantDB\n",
    "from cloudant.design_document import DesignDocument\n",
    "db10 = CloudantDB(\"topwordsmonth3\")\n",
    "#db10.add_record(cdict,key=\"2021-04\")\n",
    "\n",
    "\n",
    "print(db10.curDB[\"2021-04\"])\n",
    "#print()\n",
    "#print(db10.get_data())"
   ]
  },
  {
   "cell_type": "code",
   "execution_count": null,
   "id": "628da07e",
   "metadata": {},
   "outputs": [],
   "source": [
    "with open('top10wordsfreq.json', 'w') as f:\n",
    "    json.dump(popdict, f)\n",
    "\n",
    "    \n",
    "f.close()"
   ]
  }
 ],
 "metadata": {
  "kernelspec": {
   "display_name": "Python 3",
   "language": "python",
   "name": "python3"
  },
  "language_info": {
   "codemirror_mode": {
    "name": "ipython",
    "version": 3
   },
   "file_extension": ".py",
   "mimetype": "text/x-python",
   "name": "python",
   "nbconvert_exporter": "python",
   "pygments_lexer": "ipython3",
   "version": "3.8.8"
  }
 },
 "nbformat": 4,
 "nbformat_minor": 5
}
