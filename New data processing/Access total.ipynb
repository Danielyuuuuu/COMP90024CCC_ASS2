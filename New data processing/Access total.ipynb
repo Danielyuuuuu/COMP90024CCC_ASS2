{
 "cells": [
  {
   "cell_type": "code",
   "execution_count": 4,
   "id": "67cc92e1",
   "metadata": {},
   "outputs": [
    {
     "name": "stdout",
     "output_type": "stream",
     "text": [
      "Username: admin\n",
      "Databases: ['topwordsmonth3', 'topwordstotal', 'tweets_covid', 'tweets_keywords', 'tweets_no_keywords', 'tweets_raw', 'tweets_vaccine']\n",
      "Accessing db: topwordsmonth3\n"
     ]
    }
   ],
   "source": [
    "from database_cloudant import CloudantDB\n",
    "from cloudant.design_document import DesignDocument\n",
    "db10 = CloudantDB(\"topwordsmonth3\")\n",
    "#db10.add_record(cdict,key=\"2021-04\")\n",
    "\n",
    "\n",
    "popdict=db10.curDB[\"2021-04\"]\n",
    "#print()\n",
    "#print(db10.get_data())"
   ]
  },
  {
   "cell_type": "code",
   "execution_count": 5,
   "id": "674795e5",
   "metadata": {},
   "outputs": [],
   "source": [
    "import json\n",
    "with open('top10wordstotal.json', 'w') as f:\n",
    "    json.dump(popdict, f)\n",
    "\n",
    "    \n",
    "f.close()"
   ]
  },
  {
   "cell_type": "code",
   "execution_count": 6,
   "id": "db93cd3f",
   "metadata": {},
   "outputs": [
    {
     "name": "stdout",
     "output_type": "stream",
     "text": [
      "Username: admin\n",
      "Databases: ['topwordsmonth3', 'topwordstotal', 'tweets_covid', 'tweets_keywords', 'tweets_no_keywords', 'tweets_raw', 'tweets_vaccine']\n",
      "Accessing db: tweets_no_keywords\n"
     ]
    }
   ],
   "source": [
    "db1=CloudantDB(\"tweets_no_keywords\")"
   ]
  },
  {
   "cell_type": "code",
   "execution_count": 13,
   "id": "d7759429",
   "metadata": {},
   "outputs": [
    {
     "data": {
      "text/plain": [
       "76526"
      ]
     },
     "execution_count": 13,
     "metadata": {},
     "output_type": "execute_result"
    }
   ],
   "source": [
    "len(db1.get_data(n=400000))"
   ]
  },
  {
   "cell_type": "code",
   "execution_count": null,
   "id": "6a159bdd",
   "metadata": {},
   "outputs": [],
   "source": []
  },
  {
   "cell_type": "code",
   "execution_count": null,
   "id": "aadd449b",
   "metadata": {},
   "outputs": [],
   "source": []
  }
 ],
 "metadata": {
  "kernelspec": {
   "display_name": "Python 3",
   "language": "python",
   "name": "python3"
  },
  "language_info": {
   "codemirror_mode": {
    "name": "ipython",
    "version": 3
   },
   "file_extension": ".py",
   "mimetype": "text/x-python",
   "name": "python",
   "nbconvert_exporter": "python",
   "pygments_lexer": "ipython3",
   "version": "3.8.8"
  }
 },
 "nbformat": 4,
 "nbformat_minor": 5
}
