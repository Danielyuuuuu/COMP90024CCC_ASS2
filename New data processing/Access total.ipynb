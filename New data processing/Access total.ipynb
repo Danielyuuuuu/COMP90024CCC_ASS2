{
 "cells": [
  {
   "cell_type": "code",
   "execution_count": 18,
   "id": "67cc92e1",
   "metadata": {},
   "outputs": [
    {
     "name": "stdout",
     "output_type": "stream",
     "text": [
      "Username: admin\n",
      "Databases: ['topwordsmonth3', 'topwordstotal', 'tweets_covid', 'tweets_keywords', 'tweets_no_keywords', 'tweets_raw', 'tweets_vaccine']\n",
      "Accessing db: topwordsmonth3\n"
     ]
    },
    {
     "data": {
      "text/plain": [
       "{}"
      ]
     },
     "execution_count": 18,
     "metadata": {},
     "output_type": "execute_result"
    }
   ],
   "source": [
    "from database_cloudant import CloudantDB\n",
    "from cloudant.design_document import DesignDocument\n",
    "db10 = CloudantDB(\"topwordsmonth3\")\n",
    "# db10.add_record(cdict,key=\"2021-04\")\n",
    "\n",
    "\n",
    "db10.curDB\n",
    "#print()\n",
    "print(db10.get_data())"
   ]
  },
  {
   "cell_type": "code",
   "execution_count": 16,
   "id": "48e9c120",
   "metadata": {},
   "outputs": [
    {
     "data": {
      "text/plain": [
       "{'_id': '2021-04',\n",
       " '_rev': '1-cf0b2bd10358c18c2d8196bdbe77d4d8',\n",
       " 'Adelaide': {'Adelaide': 281,\n",
       "  'Australia': 203,\n",
       "  'South': 163,\n",
       "  'posted': 141,\n",
       "  'photo': 134,\n",
       "  'today': 125,\n",
       "  'people': 82,\n",
       "  'great': 80,\n",
       "  'Happy': 68,\n",
       "  'video': 68},\n",
       " 'Ballarat': {'#walkies': 24,\n",
       "  'Ballarat': 23,\n",
       "  'Abstract': 16,\n",
       "  '#zerowaste': 14,\n",
       "  '#recycle': 13,\n",
       "  '#MAFS': 12,\n",
       "  '#abstractart': 12,\n",
       "  '#artist': 11,\n",
       "  '#recycling': 11,\n",
       "  '#artwork': 11},\n",
       " 'Brisbane': {'posted': 961,\n",
       "  'photo': 938,\n",
       "  'Brisbane': 489,\n",
       "  'Queensland': 476,\n",
       "  'Australia': 350,\n",
       "  'today': 201,\n",
       "  'people': 126,\n",
       "  'great': 119,\n",
       "  'night': 114,\n",
       "  'first': 111},\n",
       " 'Bunbury': {'Bunbury': 7,\n",
       "  'Western': 4,\n",
       "  'Australia': 4,\n",
       "  'posted': 3,\n",
       "  'photo': 3,\n",
       "  '#housesitting': 2,\n",
       "  'walking': 2,\n",
       "  'today': 2,\n",
       "  'Taking': 1,\n",
       "  'break': 1},\n",
       " 'Canberra': {'Canberra': 168,\n",
       "  'posted': 101,\n",
       "  'photo': 97,\n",
       "  'Australian': 71,\n",
       "  'Australia': 65,\n",
       "  'great': 58,\n",
       "  'eWasp': 58,\n",
       "  'today': 55,\n",
       "  'people': 52,\n",
       "  'morning': 50},\n",
       " 'Geelong': {'Geelong': 80,\n",
       "  'Extreme': 44,\n",
       "  'Board': 37,\n",
       "  'Store': 25,\n",
       "  'Victoria': 24,\n",
       "  'today': 22,\n",
       "  'Tours': 17,\n",
       "  'photo': 16,\n",
       "  'posted': 15,\n",
       "  'WARRIORS': 13},\n",
       " 'Hobart': {'Tasmania': 58,\n",
       "  'Australia': 43,\n",
       "  'Hobart': 39,\n",
       "  'Kingston': 33,\n",
       "  'photo': 33,\n",
       "  'posted': 32,\n",
       "  'Beach': 30,\n",
       "  'today': 23,\n",
       "  'iPhone': 20,\n",
       "  '#blackandwhite': 19},\n",
       " 'Melbourne': {'posted': 2452,\n",
       "  'photo': 2270,\n",
       "  'Victoria': 1343,\n",
       "  'Melbourne': 1336,\n",
       "  'Australia': 1137,\n",
       "  'today': 539,\n",
       "  'people': 410,\n",
       "  'great': 385,\n",
       "  'would': 323,\n",
       "  'video': 300},\n",
       " 'Newcastle': {'posted': 251,\n",
       "  'photo': 226,\n",
       "  'Newcastle': 188,\n",
       "  'South': 90,\n",
       "  'Wales': 89,\n",
       "  'Forum': 76,\n",
       "  'University': 69,\n",
       "  'Sport': 61,\n",
       "  'today': 51,\n",
       "  'Australia': 37},\n",
       " 'Perth': {'Perth': 479,\n",
       "  'Australia': 474,\n",
       "  'posted': 453,\n",
       "  'photo': 415,\n",
       "  'Western': 414,\n",
       "  'today': 153,\n",
       "  'people': 129,\n",
       "  '@11AberdeenStreet': 124,\n",
       "  '️0893252011': 116,\n",
       "  'great': 109},\n",
       " 'Sydney': {'posted': 3089,\n",
       "  'photo': 2893,\n",
       "  'Sydney': 2420,\n",
       "  'Australia': 2182,\n",
       "  'South': 633,\n",
       "  'Wales': 588,\n",
       "  'today': 582,\n",
       "  'people': 368,\n",
       "  'great': 364,\n",
       "  'video': 348}}"
      ]
     },
     "execution_count": 16,
     "metadata": {},
     "output_type": "execute_result"
    }
   ],
   "source": [
    "popdict"
   ]
  },
  {
   "cell_type": "code",
   "execution_count": 15,
   "id": "674795e5",
   "metadata": {},
   "outputs": [],
   "source": [
    "import json\n",
    "with open('top10wordstotal.json', 'w') as f:\n",
    "    json.dump(popdict, f)\n",
    "\n",
    "    \n",
    "f.close()"
   ]
  },
  {
   "cell_type": "code",
   "execution_count": 6,
   "id": "db93cd3f",
   "metadata": {},
   "outputs": [
    {
     "name": "stdout",
     "output_type": "stream",
     "text": [
      "Username: admin\n",
      "Databases: ['topwordsmonth3', 'topwordstotal', 'tweets_covid', 'tweets_keywords', 'tweets_no_keywords', 'tweets_raw', 'tweets_vaccine']\n",
      "Accessing db: tweets_no_keywords\n"
     ]
    }
   ],
   "source": [
    "db1=CloudantDB(\"tweets_no_keywords\")"
   ]
  },
  {
   "cell_type": "code",
   "execution_count": 13,
   "id": "d7759429",
   "metadata": {},
   "outputs": [
    {
     "data": {
      "text/plain": [
       "76526"
      ]
     },
     "execution_count": 13,
     "metadata": {},
     "output_type": "execute_result"
    }
   ],
   "source": [
    "len(db1.get_data(n=400000))"
   ]
  },
  {
   "cell_type": "code",
   "execution_count": null,
   "id": "6a159bdd",
   "metadata": {},
   "outputs": [],
   "source": []
  },
  {
   "cell_type": "code",
   "execution_count": null,
   "id": "aadd449b",
   "metadata": {},
   "outputs": [],
   "source": []
  }
 ],
 "metadata": {
  "kernelspec": {
   "display_name": "Python 3",
   "language": "python",
   "name": "python3"
  },
  "language_info": {
   "codemirror_mode": {
    "name": "ipython",
    "version": 3
   },
   "file_extension": ".py",
   "mimetype": "text/x-python",
   "name": "python",
   "nbconvert_exporter": "python",
   "pygments_lexer": "ipython3",
   "version": "3.8.8"
  }
 },
 "nbformat": 4,
 "nbformat_minor": 5
}