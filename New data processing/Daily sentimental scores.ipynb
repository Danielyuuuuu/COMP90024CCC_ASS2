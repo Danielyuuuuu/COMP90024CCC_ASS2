{
 "cells": [
  {
   "cell_type": "code",
   "execution_count": 17,
   "id": "e5cb424b",
   "metadata": {},
   "outputs": [
    {
     "ename": "TypeError",
     "evalue": "sentiment_zone() takes 0 positional arguments but 1 was given",
     "output_type": "error",
     "traceback": [
      "\u001b[1;31m---------------------------------------------------------------------------\u001b[0m",
      "\u001b[1;31mTypeError\u001b[0m                                 Traceback (most recent call last)",
      "\u001b[1;32m<ipython-input-17-00950d6af53a>\u001b[0m in \u001b[0;36m<module>\u001b[1;34m\u001b[0m\n\u001b[0;32m     68\u001b[0m     \u001b[0mipaddress\u001b[0m\u001b[1;33m=\u001b[0m\u001b[0msys\u001b[0m\u001b[1;33m.\u001b[0m\u001b[0margv\u001b[0m\u001b[1;33m[\u001b[0m\u001b[1;36m1\u001b[0m\u001b[1;33m]\u001b[0m\u001b[1;33m\u001b[0m\u001b[1;33m\u001b[0m\u001b[0m\n\u001b[0;32m     69\u001b[0m     \u001b[0murl\u001b[0m\u001b[1;33m=\u001b[0m\u001b[1;34m\"http://\"\u001b[0m\u001b[1;33m+\u001b[0m\u001b[0mipaddress\u001b[0m\u001b[1;33m\u001b[0m\u001b[1;33m\u001b[0m\u001b[0m\n\u001b[1;32m---> 70\u001b[1;33m     \u001b[0msentimental_zone\u001b[0m\u001b[1;33m=\u001b[0m\u001b[0msentiment_zone\u001b[0m\u001b[1;33m(\u001b[0m\u001b[0mipaddress\u001b[0m\u001b[1;33m)\u001b[0m\u001b[1;33m\u001b[0m\u001b[1;33m\u001b[0m\u001b[0m\n\u001b[0m\u001b[0;32m     71\u001b[0m     \u001b[0mprint\u001b[0m\u001b[1;33m(\u001b[0m\u001b[0msentimental_zone\u001b[0m\u001b[1;33m)\u001b[0m\u001b[1;33m\u001b[0m\u001b[1;33m\u001b[0m\u001b[0m\n\u001b[0;32m     72\u001b[0m     \u001b[0mdate\u001b[0m \u001b[1;33m=\u001b[0m \u001b[1;34m\"2021-01-01\"\u001b[0m\u001b[1;33m\u001b[0m\u001b[1;33m\u001b[0m\u001b[0m\n",
      "\u001b[1;31mTypeError\u001b[0m: sentiment_zone() takes 0 positional arguments but 1 was given"
     ]
    }
   ],
   "source": [
    "from database_cloudant import CloudantDB\n",
    "from cloudant.design_document import DesignDocument\n",
    "from cloudant.view import View\n",
    "import sys\n",
    "\n",
    "\n",
    "\n",
    "#db1 = CloudantDB(\"tweets_keywords\")    # tweets in the specified location with keywords \n",
    "#db2 = CloudantDB(\"tweets_no_keywords\") # tweets in the sepcified locations without keyowrds\n",
    "#db3 = CloudantDB(\"tweets_raw\")         # raw tweet data in the specified locations\n",
    "#print(len(db1.get_data()))\n",
    "#print(db2.get_data(n=10000))\n",
    "#print(len(db3.get_data(n=10)))\n",
    "\n",
    "\n",
    "def sentiment_zone():\n",
    "    db1 = CloudantDB(\"tweets_keywords\")    # tweets in the specified location with keywords \n",
    "    db2 = CloudantDB(\"tweets_no_keywords\") # tweets in the sepcified locations without keyowrds\n",
    "    # get sentiment stats by zone\n",
    "    ddoc = DesignDocument(db2.curDB, '_design/ddoc001')\n",
    "    ddoc.fetch()\n",
    "    view = View(ddoc, 'view_zone')\n",
    "    summary = []\n",
    "    for row in view(group=True)['rows']:\n",
    "        summary.append(row)\n",
    "    \n",
    "    db1.close()\n",
    "    db2.close()\n",
    "    return summary\n",
    "\n",
    "    \n",
    "def dataofday(date):    \n",
    "    # get all data from a specific day\n",
    "    db1 = CloudantDB(\"tweets_keywords\")    # tweets in the specified location with keywords \n",
    "    db2 = CloudantDB(\"tweets_no_keywords\") # tweets in the sepcified locations without keyowrds\n",
    "    n = 100  # number of tweets need to retrieve\n",
    "    ddoc = DesignDocument(db2.curDB, '_design/ddoc001')\n",
    "    ddoc.fetch()\n",
    "    view = View(ddoc,\"view_time\")\n",
    "    data = []\n",
    "    for row in view(group=False,limit=n,reduce=False,key=date,include_docs=True)[\"rows\"]:\n",
    "        data.append(row)\n",
    "    \n",
    "    db1.close()\n",
    "    db2.close()\n",
    "    return data\n",
    "\n",
    "    \n",
    "    \n",
    "def sentiment_day(date):\n",
    "    db1 = CloudantDB(\"tweets_keywords\")    # tweets in the specified location with keywords \n",
    "    db2 = CloudantDB(\"tweets_no_keywords\") # tweets in the sepcified locations without keyowrds\n",
    "    # get sentiment stats by day\n",
    "    ddoc = DesignDocument(db2.curDB, '_design/ddoc001')\n",
    "    ddoc.fetch()\n",
    "    view = View(ddoc,\"view_time\")\n",
    "    sentiment_day = []\n",
    "    for row in view(group=True,reduce=True)[\"rows\"]:\n",
    "        sentiment_day.append(row)\n",
    "    db1.close()\n",
    "    db2.close()\n",
    "    return sentiment_day\n",
    "\n",
    "    \n",
    "\n",
    "\n",
    "if __name__ == \"__main__\":\n",
    "    ipaddress=sys.argv[1]\n",
    "    url=\"http://\"+ipaddress\n",
    "    sentimental_zone=sentiment_zone(ipaddress)\n",
    "    print(sentimental_zone)\n",
    "    date = \"2021-01-01\"\n",
    "    data=dataofday(date)\n",
    "\n",
    "    sentiofday=sentiment_day(date,ipaddress)\n",
    "    print(sentiofday)"
   ]
  },
  {
   "cell_type": "code",
   "execution_count": 18,
   "id": "ae31d384",
   "metadata": {},
   "outputs": [
    {
     "name": "stdout",
     "output_type": "stream",
     "text": [
      "Requirement already satisfied: cloudant in c:\\users\\maoya\\anaconda3\\lib\\site-packages (2.14.0)\n",
      "Requirement already satisfied: requests<3.0.0,>=2.7.0 in c:\\users\\maoya\\anaconda3\\lib\\site-packages (from cloudant) (2.25.1)\n",
      "Requirement already satisfied: urllib3<1.27,>=1.21.1 in c:\\users\\maoya\\anaconda3\\lib\\site-packages (from requests<3.0.0,>=2.7.0->cloudant) (1.26.4)\n",
      "Requirement already satisfied: certifi>=2017.4.17 in c:\\users\\maoya\\anaconda3\\lib\\site-packages (from requests<3.0.0,>=2.7.0->cloudant) (2020.12.5)\n",
      "Requirement already satisfied: chardet<5,>=3.0.2 in c:\\users\\maoya\\anaconda3\\lib\\site-packages (from requests<3.0.0,>=2.7.0->cloudant) (4.0.0)\n",
      "Requirement already satisfied: idna<3,>=2.5 in c:\\users\\maoya\\anaconda3\\lib\\site-packages (from requests<3.0.0,>=2.7.0->cloudant) (2.10)\n"
     ]
    }
   ],
   "source": [
    "!pip install cloudant"
   ]
  },
  {
   "cell_type": "code",
   "execution_count": 19,
   "id": "281a89b3",
   "metadata": {},
   "outputs": [],
   "source": [
    "from database_cloudant import CloudantDB"
   ]
  },
  {
   "cell_type": "code",
   "execution_count": 21,
   "id": "5bd8a389",
   "metadata": {},
   "outputs": [
    {
     "name": "stdout",
     "output_type": "stream",
     "text": [
      "Username: admin\n",
      "Databases: ['tweets_covid', 'tweets_keywords', 'tweets_no_keywords', 'tweets_raw', 'tweets_vaccine']\n",
      "Accessing db: tweets_keywords\n"
     ]
    }
   ],
   "source": [
    "db1 = CloudantDB(\"tweets_keywords\") \n",
    "\n",
    "db2 = CloudantDB(\"tweets_no_keywords\") "
   ]
  },
  {
   "cell_type": "code",
   "execution_count": 22,
   "id": "4e138237",
   "metadata": {},
   "outputs": [
    {
     "name": "stdout",
     "output_type": "stream",
     "text": [
      "Username: admin\n",
      "Databases: ['tweets_covid', 'tweets_keywords', 'tweets_no_keywords', 'tweets_raw', 'tweets_vaccine']\n",
      "Accessing db: tweets_keywords\n",
      "Username: admin\n",
      "Databases: ['tweets_covid', 'tweets_keywords', 'tweets_no_keywords', 'tweets_raw', 'tweets_vaccine']\n",
      "Accessing db: tweets_no_keywords\n",
      "[{'key': 'Adelaide', 'value': {'sum': 3252.0666369274995, 'count': 4687, 'min': 0.0018489063, 'max': 0.9991077, 'sumsqr': 2633.231996606998}}, {'key': 'Ballarat', 'value': {'sum': 215.24225406899998, 'count': 301, 'min': 0.007695496, 'max': 0.996231, 'sumsqr': 179.6833548591572}}, {'key': 'Brisbane', 'value': {'sum': 6112.858656253502, 'count': 8605, 'min': 0.0015777647, 'max': 0.9991449, 'sumsqr': 5026.036582776077}}, {'key': 'Bunbury', 'value': {'sum': 16.805452449999997, 'count': 21, 'min': 0.12071696, 'max': 0.9948834, 'sumsqr': 14.993714870919584}}, {'key': 'Canberra', 'value': {'sum': 1852.1211890105, 'count': 2683, 'min': 0.0051492155, 'max': 0.99870497, 'sumsqr': 1482.5704344471}}, {'key': 'Geelong', 'value': {'sum': 464.5822085456, 'count': 685, 'min': 0.0031467676, 'max': 0.997095, 'sumsqr': 373.16282522409006}}, {'key': 'Hobart', 'value': {'sum': 658.900511279, 'count': 954, 'min': 0.015335083, 'max': 0.9989484, 'sumsqr': 530.614430643801}}, {'key': 'Melbourne', 'value': {'sum': 17644.2705777797, 'count': 25045, 'min': 0.001055032, 'max': 0.99920684, 'sumsqr': 14488.336487482014}}, {'key': 'Newcastle', 'value': {'sum': 1110.4886221944, 'count': 1480, 'min': 0.0035805702, 'max': 0.99885714, 'sumsqr': 945.7160401063027}}, {'key': 'Perth', 'value': {'sum': 4673.0402783132, 'count': 6668, 'min': 0.0012976527, 'max': 0.9990462, 'sumsqr': 3804.622239456923}}, {'key': 'Sydney', 'value': {'sum': 18370.138313986397, 'count': 25396, 'min': 0.0015777647, 'max': 0.99930054, 'sumsqr': 15267.261221916136}}]\n"
     ]
    }
   ],
   "source": [
    "print(sentiment_zone())"
   ]
  },
  {
   "cell_type": "code",
   "execution_count": null,
   "id": "853f0405",
   "metadata": {},
   "outputs": [],
   "source": [
    "date=\n",
    "\n",
    "print( dataofday(date))"
   ]
  }
 ],
 "metadata": {
  "kernelspec": {
   "display_name": "Python 3",
   "language": "python",
   "name": "python3"
  },
  "language_info": {
   "codemirror_mode": {
    "name": "ipython",
    "version": 3
   },
   "file_extension": ".py",
   "mimetype": "text/x-python",
   "name": "python",
   "nbconvert_exporter": "python",
   "pygments_lexer": "ipython3",
   "version": "3.8.8"
  }
 },
 "nbformat": 4,
 "nbformat_minor": 5
}
