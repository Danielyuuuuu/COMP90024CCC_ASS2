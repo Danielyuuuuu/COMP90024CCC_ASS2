{
 "cells": [
  {
   "cell_type": "code",
   "execution_count": 2,
   "id": "e14f88cb",
   "metadata": {},
   "outputs": [
    {
     "ename": "ModuleNotFoundError",
     "evalue": "No module named 'database_cloudant'",
     "output_type": "error",
     "traceback": [
      "\u001b[1;31m---------------------------------------------------------------------------\u001b[0m",
      "\u001b[1;31mModuleNotFoundError\u001b[0m                       Traceback (most recent call last)",
      "\u001b[1;32m<ipython-input-2-cf73f82e46f3>\u001b[0m in \u001b[0;36m<module>\u001b[1;34m\u001b[0m\n\u001b[1;32m----> 1\u001b[1;33m \u001b[1;32mfrom\u001b[0m \u001b[0mdatabase_cloudant\u001b[0m \u001b[1;32mimport\u001b[0m \u001b[0mCloudantDB\u001b[0m\u001b[1;33m\u001b[0m\u001b[1;33m\u001b[0m\u001b[0m\n\u001b[0m\u001b[0;32m      2\u001b[0m \u001b[1;32mfrom\u001b[0m \u001b[0mcloudant\u001b[0m\u001b[1;33m.\u001b[0m\u001b[0mdesign_document\u001b[0m \u001b[1;32mimport\u001b[0m \u001b[0mDesignDocument\u001b[0m\u001b[1;33m\u001b[0m\u001b[1;33m\u001b[0m\u001b[0m\n\u001b[0;32m      3\u001b[0m \u001b[1;32mfrom\u001b[0m \u001b[0mcloudant\u001b[0m\u001b[1;33m.\u001b[0m\u001b[0mview\u001b[0m \u001b[1;32mimport\u001b[0m \u001b[0mView\u001b[0m\u001b[1;33m\u001b[0m\u001b[1;33m\u001b[0m\u001b[0m\n\u001b[0;32m      4\u001b[0m \u001b[1;32mimport\u001b[0m \u001b[0msys\u001b[0m\u001b[1;33m\u001b[0m\u001b[1;33m\u001b[0m\u001b[0m\n\u001b[0;32m      5\u001b[0m \u001b[1;33m\u001b[0m\u001b[0m\n",
      "\u001b[1;31mModuleNotFoundError\u001b[0m: No module named 'database_cloudant'"
     ]
    }
   ],
   "source": [
    "from database_cloudant import CloudantDB\n",
    "from cloudant.design_document import DesignDocument\n",
    "from cloudant.view import View\n",
    "import sys\n",
    "\n",
    "\n",
    "\n",
    "#db1 = CloudantDB(\"tweets_keywords\")    # tweets in the specified location with keywords \n",
    "#db2 = CloudantDB(\"tweets_no_keywords\") # tweets in the sepcified locations without keyowrds\n",
    "#db3 = CloudantDB(\"tweets_raw\")         # raw tweet data in the specified locations\n",
    "db4=CloddantDB(\"\")\n",
    "#print(len(db1.get_data()))\n",
    "#print(db2.get_data(n=10000))\n",
    "#print(len(db3.get_data(n=10)))\n",
    "\n",
    "\n",
    "\n",
    "    \n",
    "def dataofday(date):    \n",
    "    # get all data from a specific day\n",
    "    db1 = CloudantDB(\"tweets_keywords\")    # tweets in the specified location with keywords \n",
    "    db2 = CloudantDB(\"tweets_no_keywords\") # tweets in the sepcified locations without keyowrds\n",
    "    n = 100  # number of tweets need to retrieve\n",
    "    ddoc = DesignDocument(db2.curDB, '_design/ddoc001')\n",
    "    ddoc.fetch()\n",
    "    view = View(ddoc,\"view_time\")\n",
    "    data = []\n",
    "    for row in view(group=False,limit=n,reduce=False,key=date,include_docs=True)[\"rows\"]:\n",
    "        data.append(row)\n",
    "    \n",
    "    db1.close()\n",
    "    db2.close()\n",
    "    return data\n",
    "\n",
    "    \n",
    "    \n",
    "\n",
    "    \n",
    "#db3.close()\n",
    "def city_daily_popular_10words(tweetlist):\n",
    "    city=[]\n",
    "    for k in tweetlist:\n",
    "        if k[\"zone\"] not in city:\n",
    "            city.append(k[\"zone\"])\n",
    "    alltext={}\n",
    "    for c in city:\n",
    "        alltext[c]=[]\n",
    "    for k in tweetlist:\n",
    "        for c in city:\n",
    "            if k[\"zone\"] in c:\n",
    "                alltext[c].append(k[\"text\"])\n",
    "    popdict={}             \n",
    "    for c in city:\n",
    "        popdict[c]=top_words(alltext[c])\n",
    "    return popdict\n",
    "\n",
    "\n",
    "if __name__ == \"main\":\n",
    "    ipaddress=sys.argv[-1]\n",
    "\n",
    "    date = \"2021-01-01\"\n",
    "    data=dataofday(date)\n",
    "\n",
    "    citytopwords=city_daily_popular_10words(data)\n",
    "    print(citytopwords)\n"
   ]
  },
  {
   "cell_type": "code",
   "execution_count": null,
   "id": "86975cae",
   "metadata": {},
   "outputs": [],
   "source": []
  },
  {
   "cell_type": "code",
   "execution_count": null,
   "id": "540acec7",
   "metadata": {},
   "outputs": [],
   "source": []
  }
 ],
 "metadata": {
  "kernelspec": {
   "display_name": "Python 3",
   "language": "python",
   "name": "python3"
  },
  "language_info": {
   "codemirror_mode": {
    "name": "ipython",
    "version": 3
   },
   "file_extension": ".py",
   "mimetype": "text/x-python",
   "name": "python",
   "nbconvert_exporter": "python",
   "pygments_lexer": "ipython3",
   "version": "3.8.8"
  }
 },
 "nbformat": 4,
 "nbformat_minor": 5
}
