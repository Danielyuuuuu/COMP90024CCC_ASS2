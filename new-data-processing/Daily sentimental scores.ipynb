{
 "cells": [
  {
   "cell_type": "code",
   "execution_count": 24,
   "id": "a8faa6fa",
   "metadata": {},
   "outputs": [
    {
     "ename": "TypeError",
     "evalue": "sentiment_zone() takes 0 positional arguments but 1 was given",
     "output_type": "error",
     "traceback": [
      "\u001b[1;31m---------------------------------------------------------------------------\u001b[0m",
      "\u001b[1;31mTypeError\u001b[0m                                 Traceback (most recent call last)",
      "\u001b[1;32m<ipython-input-24-cd0bbb6a3de6>\u001b[0m in \u001b[0;36m<module>\u001b[1;34m\u001b[0m\n\u001b[0;32m     68\u001b[0m     \u001b[0mipaddress\u001b[0m\u001b[1;33m=\u001b[0m\u001b[0msys\u001b[0m\u001b[1;33m.\u001b[0m\u001b[0margv\u001b[0m\u001b[1;33m[\u001b[0m\u001b[1;36m1\u001b[0m\u001b[1;33m]\u001b[0m\u001b[1;33m\u001b[0m\u001b[1;33m\u001b[0m\u001b[0m\n\u001b[0;32m     69\u001b[0m     \u001b[0murl\u001b[0m\u001b[1;33m=\u001b[0m\u001b[1;34m\"http://\"\u001b[0m\u001b[1;33m+\u001b[0m\u001b[0mipaddress\u001b[0m\u001b[1;33m\u001b[0m\u001b[1;33m\u001b[0m\u001b[0m\n\u001b[1;32m---> 70\u001b[1;33m     \u001b[0msentimental_zone\u001b[0m\u001b[1;33m=\u001b[0m\u001b[0msentiment_zone\u001b[0m\u001b[1;33m(\u001b[0m\u001b[0mipaddress\u001b[0m\u001b[1;33m)\u001b[0m\u001b[1;33m\u001b[0m\u001b[1;33m\u001b[0m\u001b[0m\n\u001b[0m\u001b[0;32m     71\u001b[0m     \u001b[0mprint\u001b[0m\u001b[1;33m(\u001b[0m\u001b[0msentimental_zone\u001b[0m\u001b[1;33m)\u001b[0m\u001b[1;33m\u001b[0m\u001b[1;33m\u001b[0m\u001b[0m\n\u001b[0;32m     72\u001b[0m     \u001b[0mdate\u001b[0m \u001b[1;33m=\u001b[0m \u001b[1;34m\"2021-01-01\"\u001b[0m\u001b[1;33m\u001b[0m\u001b[1;33m\u001b[0m\u001b[0m\n",
      "\u001b[1;31mTypeError\u001b[0m: sentiment_zone() takes 0 positional arguments but 1 was given"
     ]
    }
   ],
   "source": [
    "from database_cloudant import CloudantDB\n",
    "from cloudant.design_document import DesignDocument\n",
    "from cloudant.view import View\n",
    "import sys\n",
    "\n",
    "\n",
    "\n",
    "#db1 = CloudantDB(\"tweets_keywords\")    # tweets in the specified location with keywords \n",
    "#db2 = CloudantDB(\"tweets_no_keywords\") # tweets in the sepcified locations without keyowrds\n",
    "#db3 = CloudantDB(\"tweets_raw\")         # raw tweet data in the specified locations\n",
    "#print(len(db1.get_data()))\n",
    "#print(db2.get_data(n=10000))\n",
    "#print(len(db3.get_data(n=10)))\n",
    "\n",
    "\n",
    "def sentiment_zone():\n",
    "    db1 = CloudantDB(\"tweets_keywords\")    # tweets in the specified location with keywords \n",
    "    db2 = CloudantDB(\"tweets_no_keywords\") # tweets in the sepcified locations without keyowrds\n",
    "    # get sentiment stats by zone\n",
    "    ddoc = DesignDocument(db2.curDB, '_design/ddoc001')\n",
    "    ddoc.fetch()\n",
    "    view = View(ddoc, 'view_zone')\n",
    "    summary = []\n",
    "    for row in view(group=True)['rows']:\n",
    "        summary.append(row)\n",
    "    \n",
    "    db1.close()\n",
    "    db2.close()\n",
    "    return summary\n",
    "\n",
    "    \n",
    "def dataofday(date):    \n",
    "    # get all data from a specific day\n",
    "    db1 = CloudantDB(\"tweets_keywords\")    # tweets in the specified location with keywords \n",
    "    db2 = CloudantDB(\"tweets_no_keywords\") # tweets in the sepcified locations without keyowrds\n",
    "    n = 100  # number of tweets need to retrieve\n",
    "    ddoc = DesignDocument(db2.curDB, '_design/ddoc001')\n",
    "    ddoc.fetch()\n",
    "    view = View(ddoc,\"view_time\")\n",
    "    data = []\n",
    "    for row in view(group=False,limit=n,reduce=False,key=date,include_docs=True)[\"rows\"]:\n",
    "        data.append(row)\n",
    "    \n",
    "    db1.close()\n",
    "    db2.close()\n",
    "    return data\n",
    "\n",
    "    \n",
    "    \n",
    "def sentiment_day(date):\n",
    "    db1 = CloudantDB(\"tweets_keywords\")    # tweets in the specified location with keywords \n",
    "    db2 = CloudantDB(\"tweets_no_keywords\") # tweets in the sepcified locations without keyowrds\n",
    "    # get sentiment stats by day\n",
    "    ddoc = DesignDocument(db2.curDB, '_design/ddoc001')\n",
    "    ddoc.fetch()\n",
    "    view = View(ddoc,\"view_time\")\n",
    "    sentiment_day = []\n",
    "    for row in view(group=True,reduce=True)[\"rows\"]:\n",
    "        sentiment_day.append(row)\n",
    "    db1.close()\n",
    "    db2.close()\n",
    "    return sentiment_day\n",
    "\n",
    "    \n",
    "\n",
    "\n",
    "if __name__ == \"__main__\":\n",
    "    ipaddress=sys.argv[1]\n",
    "    url=\"http://\"+ipaddress\n",
    "    sentimental_zone=sentiment_zone(ipaddress)\n",
    "    print(sentimental_zone)\n",
    "    date = \"2021-01-01\"\n",
    "    data=dataofday(date)\n",
    "\n",
    "    sentiofday=sentiment_day(date,ipaddress)\n",
    "    print(sentiofday)"
   ]
  },
  {
   "cell_type": "code",
   "execution_count": 18,
   "id": "a9d42a34",
   "metadata": {},
   "outputs": [
    {
     "name": "stdout",
     "output_type": "stream",
     "text": [
      "Requirement already satisfied: cloudant in c:\\users\\maoya\\anaconda3\\lib\\site-packages (2.14.0)\n",
      "Requirement already satisfied: requests<3.0.0,>=2.7.0 in c:\\users\\maoya\\anaconda3\\lib\\site-packages (from cloudant) (2.25.1)\n",
      "Requirement already satisfied: urllib3<1.27,>=1.21.1 in c:\\users\\maoya\\anaconda3\\lib\\site-packages (from requests<3.0.0,>=2.7.0->cloudant) (1.26.4)\n",
      "Requirement already satisfied: certifi>=2017.4.17 in c:\\users\\maoya\\anaconda3\\lib\\site-packages (from requests<3.0.0,>=2.7.0->cloudant) (2020.12.5)\n",
      "Requirement already satisfied: chardet<5,>=3.0.2 in c:\\users\\maoya\\anaconda3\\lib\\site-packages (from requests<3.0.0,>=2.7.0->cloudant) (4.0.0)\n",
      "Requirement already satisfied: idna<3,>=2.5 in c:\\users\\maoya\\anaconda3\\lib\\site-packages (from requests<3.0.0,>=2.7.0->cloudant) (2.10)\n"
     ]
    }
   ],
   "source": [
    "!pip install cloudant"
   ]
  },
  {
   "cell_type": "code",
   "execution_count": 19,
   "id": "4b2dc13a",
   "metadata": {},
   "outputs": [],
   "source": [
    "from database_cloudant import CloudantDB"
   ]
  },
  {
   "cell_type": "code",
   "execution_count": 21,
   "id": "9184bd57",
   "metadata": {},
   "outputs": [
    {
     "name": "stdout",
     "output_type": "stream",
     "text": [
      "Username: admin\n",
      "Databases: ['tweets_covid', 'tweets_keywords', 'tweets_no_keywords', 'tweets_raw', 'tweets_vaccine']\n",
      "Accessing db: tweets_keywords\n"
     ]
    }
   ],
   "source": [
    "db1 = CloudantDB(\"tweets_keywords\") \n",
    "\n",
    "db2 = CloudantDB(\"tweets_no_keywords\") "
   ]
  },
  {
   "cell_type": "code",
   "execution_count": 22,
   "id": "448d04cd",
   "metadata": {},
   "outputs": [
    {
     "name": "stdout",
     "output_type": "stream",
     "text": [
      "Username: admin\n",
      "Databases: ['tweets_covid', 'tweets_keywords', 'tweets_no_keywords', 'tweets_raw', 'tweets_vaccine']\n",
      "Accessing db: tweets_keywords\n",
      "Username: admin\n",
      "Databases: ['tweets_covid', 'tweets_keywords', 'tweets_no_keywords', 'tweets_raw', 'tweets_vaccine']\n",
      "Accessing db: tweets_no_keywords\n",
      "[{'key': 'Adelaide', 'value': {'sum': 3252.0666369274995, 'count': 4687, 'min': 0.0018489063, 'max': 0.9991077, 'sumsqr': 2633.231996606998}}, {'key': 'Ballarat', 'value': {'sum': 215.24225406899998, 'count': 301, 'min': 0.007695496, 'max': 0.996231, 'sumsqr': 179.6833548591572}}, {'key': 'Brisbane', 'value': {'sum': 6112.858656253502, 'count': 8605, 'min': 0.0015777647, 'max': 0.9991449, 'sumsqr': 5026.036582776077}}, {'key': 'Bunbury', 'value': {'sum': 16.805452449999997, 'count': 21, 'min': 0.12071696, 'max': 0.9948834, 'sumsqr': 14.993714870919584}}, {'key': 'Canberra', 'value': {'sum': 1852.1211890105, 'count': 2683, 'min': 0.0051492155, 'max': 0.99870497, 'sumsqr': 1482.5704344471}}, {'key': 'Geelong', 'value': {'sum': 464.5822085456, 'count': 685, 'min': 0.0031467676, 'max': 0.997095, 'sumsqr': 373.16282522409006}}, {'key': 'Hobart', 'value': {'sum': 658.900511279, 'count': 954, 'min': 0.015335083, 'max': 0.9989484, 'sumsqr': 530.614430643801}}, {'key': 'Melbourne', 'value': {'sum': 17644.2705777797, 'count': 25045, 'min': 0.001055032, 'max': 0.99920684, 'sumsqr': 14488.336487482014}}, {'key': 'Newcastle', 'value': {'sum': 1110.4886221944, 'count': 1480, 'min': 0.0035805702, 'max': 0.99885714, 'sumsqr': 945.7160401063027}}, {'key': 'Perth', 'value': {'sum': 4673.0402783132, 'count': 6668, 'min': 0.0012976527, 'max': 0.9990462, 'sumsqr': 3804.622239456923}}, {'key': 'Sydney', 'value': {'sum': 18370.138313986397, 'count': 25396, 'min': 0.0015777647, 'max': 0.99930054, 'sumsqr': 15267.261221916136}}]\n"
     ]
    }
   ],
   "source": [
    "print(sentiment_zone())"
   ]
  },
  {
   "cell_type": "code",
   "execution_count": 25,
   "id": "88358173",
   "metadata": {},
   "outputs": [
    {
     "name": "stdout",
     "output_type": "stream",
     "text": [
      "Username: admin\n",
      "Databases: ['tweets_covid', 'tweets_keywords', 'tweets_no_keywords', 'tweets_raw', 'tweets_vaccine']\n",
      "Accessing db: tweets_keywords\n",
      "Username: admin\n",
      "Databases: ['tweets_covid', 'tweets_keywords', 'tweets_no_keywords', 'tweets_raw', 'tweets_vaccine']\n",
      "Accessing db: tweets_no_keywords\n",
      "[]\n"
     ]
    }
   ],
   "source": [
    "date=\"2021-05-22\"\n",
    "\n",
    "print( dataofday(date))"
   ]
  },
  {
   "cell_type": "code",
   "execution_count": 26,
   "id": "7cad31ec",
   "metadata": {},
   "outputs": [],
   "source": [
    "def get_data_summary(db=\"covid\",viewType=\"month\",startkey=\"2020-10\",mode = \"mean\"):\n",
    "    if(db==\"covid\"):\n",
    "        db = CloudantDB('tweets_covid')\n",
    "    elif(db==\"vaccine\"):\n",
    "        db= CloudantDB(\"tweets_vaccine\")\n",
    "    elif(db==\"no_keywords\"):\n",
    "        db=CloudantDB('tweets_no_keywords')\n",
    "    else:\n",
    "        print(\"db parameter must in [covid,vaccine,no_keywords]\")\n",
    "        return {}\n",
    "    ddoc = DesignDocument(db.curDB,'_design/ddoc001')\n",
    "    ddoc.fetch()\n",
    "    if(viewType==\"month\"):\n",
    "        view = View(ddoc, 'view_month')\n",
    "    elif(viewType==\"zone\"):\n",
    "        view = View(ddoc,\"view_zone\")\n",
    "    else:\n",
    "        view = View(ddoc, 'view_time')\n",
    "    result = {}\n",
    "    for row in view(limit=100,reduce=True,group=True,startkey=startkey)['rows']:\n",
    "        if(mode==\"mean\"):\n",
    "            result[row['key']] = round(row['value']['sum']/row['value']['count'],6)\n",
    "        elif(mode==\"count\"):\n",
    "            result[row['key']] = row['value']['count']\n",
    "    return result"
   ]
  },
  {
   "cell_type": "code",
   "execution_count": 30,
   "id": "f13aa276",
   "metadata": {},
   "outputs": [],
   "source": [
    "def get_data_summary(db=\"covid\",viewType=\"month\",startkey=\"2020-10\",mode = \"mean\"):\n",
    "    if(db==\"covid\"):\n",
    "        db = CloudantDB('tweets_covid')\n",
    "    elif(db==\"vaccine\"):\n",
    "        db= CloudantDB(\"tweets_vaccine\")\n",
    "    elif(db==\"no_keywords\"):\n",
    "        db=CloudantDB('tweets_no_keywords')\n",
    "    else:\n",
    "        print(\"db parameter must in [covid,vaccine,no_keywords]\")\n",
    "        return {}\n",
    "    ddoc = DesignDocument(db.curDB,'_design/ddoc001')\n",
    "    ddoc.fetch()\n",
    "    if(viewType==\"month\"):\n",
    "        view = View(ddoc, 'view_month')\n",
    "    elif(viewType==\"zone\"):\n",
    "        view = View(ddoc,\"view_zone\")\n",
    "    elif(viewType==\"zone month\"):\n",
    "        view=View(ddoc, 'view_zone_month')\n",
    "    else:\n",
    "        view = View(ddoc, 'view_time')\n",
    "    result = {}\n",
    "    for row in view(limit=100,reduce=True,group=True,startkey=startkey)['rows']:\n",
    "        if(mode==\"mean\"):\n",
    "            result[row['key']] = round(row['value']['sum']/row['value']['count'],6)\n",
    "        elif(mode==\"count\"):\n",
    "            result[row['key']] = row['value']['count']\n",
    "    return result\n",
    "\n",
    "def get_data(n=100,db=\"covid\",viewType=\"day\",startkey=\"2021-05-01\"):\n",
    "    if(db==\"covid\"):\n",
    "        db = CloudantDB('tweets_covid')\n",
    "    elif(db==\"vaccine\"):\n",
    "        db= CloudantDB(\"tweets_vaccine\")\n",
    "    elif(db==\"no_keywords\"):\n",
    "        db=CloudantDB('tweets_no_keywords')\n",
    "    else:\n",
    "        print(\"db parameter must in [covid,vaccine,no_keywords]\")\n",
    "        return []\n",
    "    ddoc = DesignDocument(db.curDB,'_design/ddoc001')\n",
    "    ddoc.fetch()\n",
    "    if(viewType==\"zone\"):\n",
    "        view = View(ddoc,\"view_zone\")\n",
    "    elif(viewType==\"day\"):\n",
    "        view = View(ddoc, 'view_time')\n",
    "    else:\n",
    "        return \"Does not support viewType\"+viewType\n",
    "    result = []\n",
    "    for row in view(limit=n,reduce=False,group=False,startkey=startkey,include_docs=True)['rows']:\n",
    "        result.append(row)\n",
    "    return result\n"
   ]
  },
  {
   "cell_type": "code",
   "execution_count": 29,
   "id": "9a5ae60a",
   "metadata": {},
   "outputs": [
    {
     "name": "stdout",
     "output_type": "stream",
     "text": [
      "Username: admin\n",
      "Databases: ['tweets_covid', 'tweets_keywords', 'tweets_no_keywords', 'tweets_raw', 'tweets_vaccine']\n",
      "Accessing db: tweets_covid\n",
      "{'2020-10-02': 0.693379, '2020-10-04': 0.501213, '2020-10-07': 0.679913, '2020-10-12': 0.191182, '2020-10-16': 0.548117, '2020-10-17': 0.889036, '2020-10-20': 0.34919, '2020-10-21': 0.964741, '2020-10-22': 0.713141, '2020-10-23': 0.914453, '2020-10-24': 0.479186, '2020-10-27': 0.66142, '2020-10-28': 0.895595, '2020-11-01': 0.5257, '2020-11-02': 0.239922, '2020-11-03': 0.949064, '2020-11-05': 0.211351, '2020-11-08': 0.873696, '2020-11-10': 0.477794, '2020-11-11': 0.8717, '2020-11-13': 0.931579, '2020-11-14': 0.959367, '2020-11-16': 0.52775, '2020-11-18': 0.703877, '2020-11-19': 0.264016, '2020-11-20': 0.909923, '2020-11-22': 0.636922, '2020-11-23': 0.591639, '2020-11-24': 0.926269, '2020-11-25': 0.407742, '2020-11-27': 0.916552, '2020-12-01': 0.755786, '2020-12-02': 0.878444, '2020-12-03': 0.65022, '2020-12-05': 0.883682, '2020-12-08': 0.743107, '2020-12-10': 0.802115, '2020-12-14': 0.770182, '2020-12-16': 0.198577, '2020-12-17': 0.798266, '2020-12-18': 0.726576, '2020-12-19': 0.618615, '2020-12-24': 0.87176, '2020-12-25': 0.777664, '2020-12-26': 0.700793, '2020-12-29': 0.805602, '2020-12-30': 0.324507, '2020-12-31': 0.907479, '2021-01-02': 0.525383, '2021-01-03': 0.98187, '2021-01-06': 0.627495, '2021-01-07': 0.377288, '2021-01-09': 0.641448, '2021-01-10': 0.754042, '2021-01-11': 0.519958, '2021-01-12': 0.688623, '2021-01-14': 0.220642, '2021-01-15': 0.37581, '2021-01-18': 0.516094, '2021-01-19': 0.520811, '2021-01-25': 0.956574, '2021-01-27': 0.523951, '2021-01-28': 0.586416, '2021-01-29': 0.735526, '2021-01-31': 0.83671, '2021-02-01': 0.638711, '2021-02-02': 0.612985, '2021-02-03': 0.492741, '2021-02-04': 0.17583, '2021-02-05': 0.70652, '2021-02-06': 0.41789, '2021-02-07': 0.806989, '2021-02-12': 0.588171, '2021-02-13': 0.594288, '2021-02-14': 0.900232, '2021-02-15': 0.747561, '2021-02-16': 0.623529, '2021-02-17': 0.454916, '2021-02-18': 0.499263, '2021-02-19': 0.428624, '2021-02-20': 0.557885, '2021-02-21': 0.572655, '2021-02-23': 0.56913, '2021-02-24': 0.486038, '2021-02-25': 0.987853, '2021-02-27': 0.992181, '2021-02-28': 0.499618, '2021-03-01': 0.764892, '2021-03-02': 0.297245, '2021-03-03': 0.400392, '2021-03-04': 0.72884, '2021-03-08': 0.81629, '2021-03-09': 0.756447, '2021-03-10': 0.825916, '2021-03-11': 0.537147, '2021-03-13': 0.168137, '2021-03-14': 0.771687, '2021-03-15': 0.571689, '2021-03-16': 0.581915, '2021-03-17': 0.839512}\n"
     ]
    }
   ],
   "source": [
    "print(get_data_summary(viewType='view_time'))"
   ]
  },
  {
   "cell_type": "code",
   "execution_count": null,
   "id": "a71a6d14",
   "metadata": {},
   "outputs": [],
   "source": []
  }
 ],
 "metadata": {
  "kernelspec": {
   "display_name": "Python 3",
   "language": "python",
   "name": "python3"
  },
  "language_info": {
   "codemirror_mode": {
    "name": "ipython",
    "version": 3
   },
   "file_extension": ".py",
   "mimetype": "text/x-python",
   "name": "python",
   "nbconvert_exporter": "python",
   "pygments_lexer": "ipython3",
   "version": "3.8.8"
  }
 },
 "nbformat": 4,
 "nbformat_minor": 5
}
