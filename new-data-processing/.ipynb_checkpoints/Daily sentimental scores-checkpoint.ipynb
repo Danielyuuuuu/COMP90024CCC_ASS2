{
 "cells": [
  {
   "cell_type": "code",
   "execution_count": 3,
   "id": "b00cac1f",
   "metadata": {},
   "outputs": [
    {
     "ename": "ModuleNotFoundError",
     "evalue": "No module named 'database_cloudant'",
     "output_type": "error",
     "traceback": [
      "\u001b[1;31m---------------------------------------------------------------------------\u001b[0m",
      "\u001b[1;31mModuleNotFoundError\u001b[0m                       Traceback (most recent call last)",
      "\u001b[1;32m<ipython-input-3-253d5ddde69f>\u001b[0m in \u001b[0;36m<module>\u001b[1;34m\u001b[0m\n\u001b[1;32m----> 1\u001b[1;33m \u001b[1;32mfrom\u001b[0m \u001b[0mdatabase_cloudant\u001b[0m \u001b[1;32mimport\u001b[0m \u001b[0mCloudantDB\u001b[0m\u001b[1;33m\u001b[0m\u001b[1;33m\u001b[0m\u001b[0m\n\u001b[0m\u001b[0;32m      2\u001b[0m \u001b[1;32mfrom\u001b[0m \u001b[0mcloudant\u001b[0m\u001b[1;33m.\u001b[0m\u001b[0mdesign_document\u001b[0m \u001b[1;32mimport\u001b[0m \u001b[0mDesignDocument\u001b[0m\u001b[1;33m\u001b[0m\u001b[1;33m\u001b[0m\u001b[0m\n\u001b[0;32m      3\u001b[0m \u001b[1;32mfrom\u001b[0m \u001b[0mcloudant\u001b[0m\u001b[1;33m.\u001b[0m\u001b[0mview\u001b[0m \u001b[1;32mimport\u001b[0m \u001b[0mView\u001b[0m\u001b[1;33m\u001b[0m\u001b[1;33m\u001b[0m\u001b[0m\n\u001b[0;32m      4\u001b[0m \u001b[1;32mimport\u001b[0m \u001b[0msys\u001b[0m\u001b[1;33m\u001b[0m\u001b[1;33m\u001b[0m\u001b[0m\n\u001b[0;32m      5\u001b[0m \u001b[1;33m\u001b[0m\u001b[0m\n",
      "\u001b[1;31mModuleNotFoundError\u001b[0m: No module named 'database_cloudant'"
     ]
    }
   ],
   "source": [
    "from database_cloudant import CloudantDB\n",
    "from cloudant.design_document import DesignDocument\n",
    "from cloudant.view import View\n",
    "import sys\n",
    "\n",
    "\n",
    "\n",
    "#db1 = CloudantDB(\"tweets_keywords\")    # tweets in the specified location with keywords \n",
    "#db2 = CloudantDB(\"tweets_no_keywords\") # tweets in the sepcified locations without keyowrds\n",
    "#db3 = CloudantDB(\"tweets_raw\")         # raw tweet data in the specified locations\n",
    "#print(len(db1.get_data()))\n",
    "#print(db2.get_data(n=10000))\n",
    "#print(len(db3.get_data(n=10)))\n",
    "\n",
    "\n",
    "def sentiment_zone(url):\n",
    "    db1 = CloudantDB(\"tweets_keywords\",url=url)    # tweets in the specified location with keywords \n",
    "    db2 = CloudantDB(\"tweets_no_keywords\",url=url) # tweets in the sepcified locations without keyowrds\n",
    "    # get sentiment stats by zone\n",
    "    ddoc = DesignDocument(db2.curDB, '_design/ddoc001')\n",
    "    ddoc.fetch()\n",
    "    view = View(ddoc, 'view_zone')\n",
    "    summary = []\n",
    "    for row in view(group=True)['rows']:\n",
    "        summary.append(row)\n",
    "    \n",
    "    db1.close()\n",
    "    db2.close()\n",
    "    return summary\n",
    "\n",
    "    \n",
    "def dataofday(date,url):    \n",
    "    # get all data from a specific day\n",
    "    db1 = CloudantDB(\"tweets_keywords\",url=url)    # tweets in the specified location with keywords \n",
    "    db2 = CloudantDB(\"tweets_no_keywords\",url=url) # tweets in the sepcified locations without keyowrds\n",
    "    n = 100  # number of tweets need to retrieve\n",
    "    ddoc = DesignDocument(db2.curDB, '_design/ddoc001')\n",
    "    ddoc.fetch()\n",
    "    view = View(ddoc,\"view_time\")\n",
    "    data = []\n",
    "    for row in view(group=False,limit=n,reduce=False,key=date,include_docs=True)[\"rows\"]:\n",
    "        data.append(row)\n",
    "    \n",
    "    db1.close()\n",
    "    db2.close()\n",
    "    return data\n",
    "\n",
    "    \n",
    "    \n",
    "def sentiment_day(date,url):\n",
    "    db1 = CloudantDB(\"tweets_keywords\",url=url)    # tweets in the specified location with keywords \n",
    "    db2 = CloudantDB(\"tweets_no_keywords\",url=url) # tweets in the sepcified locations without keyowrds\n",
    "    # get sentiment stats by day\n",
    "    ddoc = DesignDocument(db2.curDB, '_design/ddoc001')\n",
    "    ddoc.fetch()\n",
    "    view = View(ddoc,\"view_time\")\n",
    "    sentiment_day = []\n",
    "    for row in view(group=True,reduce=True)[\"rows\"]:\n",
    "        sentiment_day.append(row)\n",
    "    db1.close()\n",
    "    db2.close()\n",
    "    return sentiment_day\n",
    "\n",
    "    \n",
    "\n",
    "\n",
    "if __name__ == \"main\":\n",
    "    ipaddress=sys.argv[-1]\n",
    "    sentimental_zone=sentiment_zone(ipaddress)\n",
    "    print(sentimental_zone)\n",
    "    date = \"2021-01-01\"\n",
    "    data=dataofday(date)\n",
    "\n",
    "    sentiofday=sentiment_day(date,ipaddress)\n",
    "    print(sentiofday)"
   ]
  },
  {
   "cell_type": "code",
   "execution_count": null,
   "id": "fb756d62",
   "metadata": {},
   "outputs": [],
   "source": []
  }
 ],
 "metadata": {
  "kernelspec": {
   "display_name": "Python 3",
   "language": "python",
   "name": "python3"
  },
  "language_info": {
   "codemirror_mode": {
    "name": "ipython",
    "version": 3
   },
   "file_extension": ".py",
   "mimetype": "text/x-python",
   "name": "python",
   "nbconvert_exporter": "python",
   "pygments_lexer": "ipython3",
   "version": "3.8.8"
  }
 },
 "nbformat": 4,
 "nbformat_minor": 5
}
