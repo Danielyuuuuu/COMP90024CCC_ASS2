{
 "cells": [
  {
   "cell_type": "code",
   "execution_count": null,
   "id": "d110e662",
   "metadata": {},
   "outputs": [],
   "source": [
    "def city_history_popular_10words():\n",
    "    \n",
    "    filename='top10words.json'\n",
    "    with open(filename) as f:\n",
    "        popdict = json.load(f)\n",
    "    \n",
    "\n",
    "    return popdict"
   ]
  },
  {
   "cell_type": "code",
   "execution_count": null,
   "id": "0fc395a1",
   "metadata": {},
   "outputs": [],
   "source": [
    "def city_history_sentiment():\n",
    "    keywordsfile=\"data_streaming.jsonl\"\n",
    "\n",
    "    \n",
    "    sentidict=defaultdict(float)\n",
    "    countdict=defaultdict(int)\n",
    "    with jsonlines.open(keywordsfile) as f:\n",
    "        for line in f:\n",
    "\n",
    "            sentidict[line[\"zone\"]]+=float(line['sentiment_score'])\n",
    "            countdict[line[\"zone\"]]+=1\n",
    "\n",
    "    averagedict={}\n",
    "    for c in sentidict.keys():\n",
    "        averagedict[c]=sentidict[c]/countdict[c]\n",
    "    return averagedict"
   ]
  }
 ],
 "metadata": {
  "kernelspec": {
   "display_name": "Python 3",
   "language": "python",
   "name": "python3"
  },
  "language_info": {
   "codemirror_mode": {
    "name": "ipython",
    "version": 3
   },
   "file_extension": ".py",
   "mimetype": "text/x-python",
   "name": "python",
   "nbconvert_exporter": "python",
   "pygments_lexer": "ipython3",
   "version": "3.8.8"
  }
 },
 "nbformat": 4,
 "nbformat_minor": 5
}
