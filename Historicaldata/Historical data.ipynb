{
 "cells": [
  {
   "cell_type": "code",
   "execution_count": 1,
   "id": "d110e662",
   "metadata": {},
   "outputs": [],
   "source": [
    "def city_history_popular_10words():\n",
    "    \n",
    "    filename='top10words.json'\n",
    "    with open(filename) as f:\n",
    "        popdict = json.load(f)\n",
    "    \n",
    "\n",
    "    return popdict"
   ]
  },
  {
   "cell_type": "code",
   "execution_count": 8,
   "id": "0fc395a1",
   "metadata": {},
   "outputs": [],
   "source": [
    "from collections import defaultdict\n",
    "import jsonlines\n",
    "def city_history_sentiment():\n",
    "    keywordsfile=\"data_streaming.jsonl\"\n",
    "\n",
    "    \n",
    "    sentidict=defaultdict(float)\n",
    "    countdict=defaultdict(int)\n",
    "    with jsonlines.open(keywordsfile) as f:\n",
    "        for line in f:\n",
    "\n",
    "            sentidict[line[\"zone\"]]+=float(line['sentiment_score'])\n",
    "            countdict[line[\"zone\"]]+=1\n",
    "\n",
    "    averagedict={}\n",
    "    for c in sentidict.keys():\n",
    "        averagedict[c]=sentidict[c]/countdict[c]\n",
    "    return averagedict"
   ]
  },
  {
   "cell_type": "code",
   "execution_count": 9,
   "id": "3f0f2167",
   "metadata": {},
   "outputs": [],
   "source": []
  },
  {
   "cell_type": "code",
   "execution_count": 32,
   "id": "424eb0de",
   "metadata": {},
   "outputs": [],
   "source": [
    "#zone background information\n",
    "import pandas\n",
    "def rate_overseas():\n",
    "    zone_stats=pandas.read_csv(\"zone_stats.csv\")\n",
    "    overseadict={}\n",
    "    for i in range(len(zone_stats[\"zone\"])):\n",
    "        overseadict[zone_stats[\"zone\"][i]]=zone_stats[\"rate_overseas\"][i]\n",
    "    return overseadict\n",
    "\n",
    "\n",
    "def education_years():\n",
    "    zone_stats=pandas.read_csv(\"zone_stats.csv\")\n",
    "    educdict={}\n",
    "    for i in range(len(zone_stats[\"zone\"])):\n",
    "        educdict[zone_stats[\"zone\"][i]]=zone_stats[\"avg_study_yrs\"][i]\n",
    "    return educdict\n",
    "\n",
    "def income():\n",
    "    zone_stats=pandas.read_csv(\"zone_stats.csv\")\n",
    "    incomedict={}\n",
    "    for i in range(len(zone_stats[\"zone\"])):\n",
    "        incomedict[zone_stats[\"zone\"][i]]=zone_stats[\"MEDIAN_TOT_FAM_INC_WEEKLY\"][i]\n",
    "    return incomedict\n",
    "\n",
    "\n",
    "def age():\n",
    "    zone_stats=pandas.read_csv(\"zone_stats.csv\")\n",
    "    agedict={}\n",
    "    for i in range(len(zone_stats[\"zone\"])):\n",
    "        agedict[zone_stats[\"zone\"][i]]=zone_stats[\"MEDIAN_AGE_PERSONS\"][i]\n",
    "    return agedict\n",
    "\n",
    "\n",
    "\n",
    "def religion_ratio():\n",
    "    zone_stats=pandas.read_csv(\"zone_stats.csv\")\n",
    "    religiondict={}\n",
    "    for i in range(len(zone_stats[\"zone\"])):\n",
    "        ratio=[zone_stats[\"ratio_christian\"][i],zone_stats[\"ratio_islam\"][i],zone_stats[\"ratio_hindu\"][i],zone_stats[\"ratio_no_religon\"][i]]\n",
    "        religiondict[zone_stats[\"zone\"][i]]=ratio\n",
    "    return religiondict\n",
    "\n",
    "\n",
    "\n"
   ]
  },
  {
   "cell_type": "code",
   "execution_count": null,
   "id": "ad1e25b5",
   "metadata": {},
   "outputs": [],
   "source": []
  },
  {
   "cell_type": "code",
   "execution_count": null,
   "id": "1ed8f4b0",
   "metadata": {},
   "outputs": [],
   "source": []
  },
  {
   "cell_type": "code",
   "execution_count": null,
   "id": "7c1a3d4f",
   "metadata": {},
   "outputs": [],
   "source": []
  }
 ],
 "metadata": {
  "kernelspec": {
   "display_name": "Python 3",
   "language": "python",
   "name": "python3"
  },
  "language_info": {
   "codemirror_mode": {
    "name": "ipython",
    "version": 3
   },
   "file_extension": ".py",
   "mimetype": "text/x-python",
   "name": "python",
   "nbconvert_exporter": "python",
   "pygments_lexer": "ipython3",
   "version": "3.8.8"
  }
 },
 "nbformat": 4,
 "nbformat_minor": 5
}